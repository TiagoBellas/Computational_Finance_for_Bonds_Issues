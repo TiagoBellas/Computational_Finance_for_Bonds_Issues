{
 "cells": [
  {
   "cell_type": "markdown",
   "id": "da64182a",
   "metadata": {},
   "source": [
    "# Computational Finance - Group Assignment\n",
    "### Autors: \n",
    "- Tiago Bellas\n",
    "- Renato Garofalo Morais\n",
    "- Catarina da Graça Badi\n",
    "- Fernando Tiago Lopo Reis\n",
    "- Luís Filipe Ribeiro"
   ]
  },
  {
   "attachments": {},
   "cell_type": "markdown",
   "id": "66c1de97",
   "metadata": {},
   "source": [
    "# 1. [15.0] Consider the following bond market information for a set of Treasury government bonds:\n"
   ]
  },
  {
   "cell_type": "code",
   "execution_count": 1,
   "id": "9e453d2d",
   "metadata": {},
   "outputs": [],
   "source": [
    "# Dataframe Bonds\n",
    "import pandas as pd\n",
    "import numpy as np\n",
    "import matplotlib.pyplot as plt"
   ]
  },
  {
   "cell_type": "code",
   "execution_count": 2,
   "id": "ee3d701e",
   "metadata": {},
   "outputs": [],
   "source": [
    "df = pd.DataFrame({\n",
    "    'Bond': [1, 2, 3, 4, 5, 6, 7, 8, 9,10],\n",
    "    'Coupon rate': [0.015, 0.0175, 0.02, 0.0225, 0.025, 0.0275, 0.03, 0.0325, 0.035, 0.0375],\n",
    "    'Coupon frequency': ['Annual', 'Annual', 'Annual', 'Annual', 'Annual', 'Annual', 'Annual', 'Annual', 'Annual', 'Annual'],\n",
    "    'Maturity': [1, 2, 3, 4, 5, 6, 7, 8, 9, 10],\n",
    "    'Dirty-price': [96.6, 93.71, 91.56, 90.24, 89.74, 90.04, 91.09, 92.82, 95.19, 98.14]\n",
    "})"
   ]
  },
  {
   "cell_type": "code",
   "execution_count": 3,
   "id": "13a9ee7b",
   "metadata": {},
   "outputs": [
    {
     "data": {
      "text/html": [
       "<div>\n",
       "<style scoped>\n",
       "    .dataframe tbody tr th:only-of-type {\n",
       "        vertical-align: middle;\n",
       "    }\n",
       "\n",
       "    .dataframe tbody tr th {\n",
       "        vertical-align: top;\n",
       "    }\n",
       "\n",
       "    .dataframe thead th {\n",
       "        text-align: right;\n",
       "    }\n",
       "</style>\n",
       "<table border=\"1\" class=\"dataframe\">\n",
       "  <thead>\n",
       "    <tr style=\"text-align: right;\">\n",
       "      <th></th>\n",
       "      <th>Bond</th>\n",
       "      <th>Coupon rate</th>\n",
       "      <th>Coupon frequency</th>\n",
       "      <th>Maturity</th>\n",
       "      <th>Dirty-price</th>\n",
       "    </tr>\n",
       "  </thead>\n",
       "  <tbody>\n",
       "    <tr>\n",
       "      <th>0</th>\n",
       "      <td>1</td>\n",
       "      <td>0.0150</td>\n",
       "      <td>Annual</td>\n",
       "      <td>1</td>\n",
       "      <td>96.60</td>\n",
       "    </tr>\n",
       "    <tr>\n",
       "      <th>1</th>\n",
       "      <td>2</td>\n",
       "      <td>0.0175</td>\n",
       "      <td>Annual</td>\n",
       "      <td>2</td>\n",
       "      <td>93.71</td>\n",
       "    </tr>\n",
       "    <tr>\n",
       "      <th>2</th>\n",
       "      <td>3</td>\n",
       "      <td>0.0200</td>\n",
       "      <td>Annual</td>\n",
       "      <td>3</td>\n",
       "      <td>91.56</td>\n",
       "    </tr>\n",
       "    <tr>\n",
       "      <th>3</th>\n",
       "      <td>4</td>\n",
       "      <td>0.0225</td>\n",
       "      <td>Annual</td>\n",
       "      <td>4</td>\n",
       "      <td>90.24</td>\n",
       "    </tr>\n",
       "    <tr>\n",
       "      <th>4</th>\n",
       "      <td>5</td>\n",
       "      <td>0.0250</td>\n",
       "      <td>Annual</td>\n",
       "      <td>5</td>\n",
       "      <td>89.74</td>\n",
       "    </tr>\n",
       "    <tr>\n",
       "      <th>5</th>\n",
       "      <td>6</td>\n",
       "      <td>0.0275</td>\n",
       "      <td>Annual</td>\n",
       "      <td>6</td>\n",
       "      <td>90.04</td>\n",
       "    </tr>\n",
       "    <tr>\n",
       "      <th>6</th>\n",
       "      <td>7</td>\n",
       "      <td>0.0300</td>\n",
       "      <td>Annual</td>\n",
       "      <td>7</td>\n",
       "      <td>91.09</td>\n",
       "    </tr>\n",
       "    <tr>\n",
       "      <th>7</th>\n",
       "      <td>8</td>\n",
       "      <td>0.0325</td>\n",
       "      <td>Annual</td>\n",
       "      <td>8</td>\n",
       "      <td>92.82</td>\n",
       "    </tr>\n",
       "    <tr>\n",
       "      <th>8</th>\n",
       "      <td>9</td>\n",
       "      <td>0.0350</td>\n",
       "      <td>Annual</td>\n",
       "      <td>9</td>\n",
       "      <td>95.19</td>\n",
       "    </tr>\n",
       "    <tr>\n",
       "      <th>9</th>\n",
       "      <td>10</td>\n",
       "      <td>0.0375</td>\n",
       "      <td>Annual</td>\n",
       "      <td>10</td>\n",
       "      <td>98.14</td>\n",
       "    </tr>\n",
       "  </tbody>\n",
       "</table>\n",
       "</div>"
      ],
      "text/plain": [
       "   Bond  Coupon rate Coupon frequency  Maturity  Dirty-price\n",
       "0     1       0.0150           Annual         1        96.60\n",
       "1     2       0.0175           Annual         2        93.71\n",
       "2     3       0.0200           Annual         3        91.56\n",
       "3     4       0.0225           Annual         4        90.24\n",
       "4     5       0.0250           Annual         5        89.74\n",
       "5     6       0.0275           Annual         6        90.04\n",
       "6     7       0.0300           Annual         7        91.09\n",
       "7     8       0.0325           Annual         8        92.82\n",
       "8     9       0.0350           Annual         9        95.19\n",
       "9    10       0.0375           Annual        10        98.14"
      ]
     },
     "execution_count": 3,
     "metadata": {},
     "output_type": "execute_result"
    }
   ],
   "source": [
    "df"
   ]
  },
  {
   "cell_type": "markdown",
   "id": "ac04ddac",
   "metadata": {},
   "source": [
    "### a) [1.0] Build a class called YieldCurve that will receive an array with information on maturity, price and coupon for n bonds (n x 3)"
   ]
  },
  {
   "cell_type": "code",
   "execution_count": 4,
   "id": "dd892d7f",
   "metadata": {},
   "outputs": [],
   "source": [
    "class Bond:\n",
    "    \n",
    "    def __init__(self, maturity, price, coupon):\n",
    "        self.maturity = maturity\n",
    "        self.price = price\n",
    "        self.coupon = coupon\n",
    "    \n",
    "    def print(self):\n",
    "        print(f\"Maturity: {self.maturity} years, Price: {self.price}, Coupon: {self.coupon}%\")"
   ]
  },
  {
   "cell_type": "code",
   "execution_count": 5,
   "id": "c4d3e30f",
   "metadata": {},
   "outputs": [],
   "source": [
    "class YieldCurve:\n",
    "    \n",
    "    def __init__(self, bonds):\n",
    "        self.bonds = bonds"
   ]
  },
  {
   "cell_type": "code",
   "execution_count": 6,
   "id": "b009396a",
   "metadata": {},
   "outputs": [
    {
     "name": "stdout",
     "output_type": "stream",
     "text": [
      "Maturity: 1 years, Price: 96.6, Coupon: 1.5%\n",
      "Maturity: 2 years, Price: 93.71, Coupon: 1.7500000000000002%\n",
      "Maturity: 3 years, Price: 91.56, Coupon: 2.0%\n",
      "Maturity: 4 years, Price: 90.24, Coupon: 2.25%\n",
      "Maturity: 5 years, Price: 89.74, Coupon: 2.5%\n",
      "Maturity: 6 years, Price: 90.04, Coupon: 2.75%\n",
      "Maturity: 7 years, Price: 91.09, Coupon: 3.0%\n",
      "Maturity: 8 years, Price: 92.82, Coupon: 3.25%\n",
      "Maturity: 9 years, Price: 95.19, Coupon: 3.5000000000000004%\n",
      "Maturity: 10 years, Price: 98.14, Coupon: 3.75%\n"
     ]
    }
   ],
   "source": [
    "bonds = []\n",
    "for year in range(len(df)):\n",
    "    #extrair os campos por índice\n",
    "    maturity = df['Maturity'].iloc[year]\n",
    "    price = df['Dirty-price'].iloc[year]\n",
    "    coupon = df['Coupon rate'].iloc[year]*100 #na df é a rate\n",
    "    \n",
    "    #adicionar aos bonds\n",
    "    bond = Bond(maturity, price, coupon)\n",
    "    bonds.append(bond)\n",
    "\n",
    "    #printar o bond\n",
    "    bond.print()"
   ]
  },
  {
   "cell_type": "code",
   "execution_count": 7,
   "id": "785e3c83",
   "metadata": {},
   "outputs": [],
   "source": [
    "yield_curve = YieldCurve(bonds)"
   ]
  },
  {
   "cell_type": "markdown",
   "id": "0036a800",
   "metadata": {},
   "source": [
    "### b) [2.0] Add a method that will bootstrap the discount factors using matrix operations"
   ]
  },
  {
   "cell_type": "markdown",
   "id": "4b64b1c2",
   "metadata": {},
   "source": [
    "### c) [2.0] Add a method that will bootstrap the discount factors using a global solver"
   ]
  },
  {
   "cell_type": "markdown",
   "id": "26aa210d",
   "metadata": {},
   "source": [
    "### d) [2.0] Add a method that will bootstrap the discount factors using an iterative procedure"
   ]
  },
  {
   "cell_type": "code",
   "execution_count": 8,
   "id": "0396a95f",
   "metadata": {},
   "outputs": [],
   "source": [
    "from scipy.optimize import root\n",
    "\n",
    "class YieldCurve:\n",
    "\n",
    "    def __init__(self, bonds):\n",
    "        self.bonds = bonds\n",
    "\n",
    "    \"\"\" \n",
    "    Calculating cashflows em matrix NxN\n",
    "    \"\"\"\n",
    "    def cashflows(self):\n",
    "        number_of_bonds = len(self.bonds)\n",
    "        cashflows = np.zeros( (number_of_bonds, number_of_bonds) )\n",
    "\n",
    "        for i in range(number_of_bonds):\n",
    "            bond = self.bonds[i]\n",
    "            cashflows[i][0:bond.maturity] = bond.coupon\n",
    "            cashflows[i][bond.maturity-1] = 100 + bond.coupon\n",
    "        \n",
    "        return cashflows\n",
    "\n",
    "\n",
    "    \"\"\"\n",
    "    b) Add a method that will bootstrap the discount factors using matrix operations\n",
    "    \"\"\"\n",
    "    def bootstrap_discount_factors_matrix(self):\n",
    "        cashflows = self.cashflows()\n",
    "        prices = [bond.price for bond in self.bonds]\n",
    "        return np.linalg.solve(cashflows, prices)\n",
    "    \n",
    "    \"\"\"\n",
    "    c) Add a method that will bootstrap the discount factors using a global solver\n",
    "    \"\"\"\n",
    "    def bootstrap_discount_factors_global_solver(self):\n",
    "        # Ponto de começo\n",
    "        discount_factors_initial_guess = np.ones(len(self.bonds))\n",
    "\n",
    "        # Queremos calcular os dfs tal que dfs*cfs = preço  => preço-preço real = 0\n",
    "        def bond_price_error(dfs):\n",
    "            prices = np.dot(self.cashflows(), dfs)\n",
    "            return prices - np.array([bond.price for bond in self.bonds])\n",
    "\n",
    "        result = root(bond_price_error, discount_factors_initial_guess)\n",
    "        return result.x\n",
    "\n",
    "    \"\"\"\n",
    "    d) Add a method that will bootstrap the discount factors using an iterative procedure\n",
    "    \"\"\"\n",
    "    def bootstrap_discount_factors_iterative(self):\n",
    "        # Ponto de partida...\n",
    "        discount_factors = np.ones(len(self.bonds))\n",
    "\n",
    "        def calculate_price_error(dfs):\n",
    "            current_prices = np.dot(self.cashflows(), dfs)\n",
    "            return current_prices - np.array([bond.price for bond in self.bonds])\n",
    "\n",
    "        tolerance = 1e-6\n",
    "        price_error = calculate_price_error(discount_factors)\n",
    "\n",
    "        while np.sum(np.abs(price_error)) > tolerance:\n",
    "            # Calcular erro dos preços\n",
    "            price_error = calculate_price_error(discount_factors)\n",
    "            \n",
    "            \"\"\"\n",
    "            Esta linha serve para calcular os decrementos necessários para os DCF.\n",
    "            Dado que a soma dos CF*DCF = DP então para irmos ajustando o DCF até ser verdade,\n",
    "            igualando CF à diferença de preços para obter a diferença necessária no DCF \n",
    "            \"\"\"\n",
    "            discount_factors -= np.linalg.solve(self.cashflows(), price_error)\n",
    "                \n",
    "        return discount_factors\n",
    "\n",
    "        \n",
    "\n",
    "        "
   ]
  },
  {
   "cell_type": "code",
   "execution_count": 9,
   "id": "ed40f339",
   "metadata": {},
   "outputs": [
    {
     "data": {
      "text/plain": [
       "array([[101.5 ,   0.  ,   0.  ,   0.  ,   0.  ,   0.  ,   0.  ,   0.  ,\n",
       "          0.  ,   0.  ],\n",
       "       [  1.75, 101.75,   0.  ,   0.  ,   0.  ,   0.  ,   0.  ,   0.  ,\n",
       "          0.  ,   0.  ],\n",
       "       [  2.  ,   2.  , 102.  ,   0.  ,   0.  ,   0.  ,   0.  ,   0.  ,\n",
       "          0.  ,   0.  ],\n",
       "       [  2.25,   2.25,   2.25, 102.25,   0.  ,   0.  ,   0.  ,   0.  ,\n",
       "          0.  ,   0.  ],\n",
       "       [  2.5 ,   2.5 ,   2.5 ,   2.5 , 102.5 ,   0.  ,   0.  ,   0.  ,\n",
       "          0.  ,   0.  ],\n",
       "       [  2.75,   2.75,   2.75,   2.75,   2.75, 102.75,   0.  ,   0.  ,\n",
       "          0.  ,   0.  ],\n",
       "       [  3.  ,   3.  ,   3.  ,   3.  ,   3.  ,   3.  , 103.  ,   0.  ,\n",
       "          0.  ,   0.  ],\n",
       "       [  3.25,   3.25,   3.25,   3.25,   3.25,   3.25,   3.25, 103.25,\n",
       "          0.  ,   0.  ],\n",
       "       [  3.5 ,   3.5 ,   3.5 ,   3.5 ,   3.5 ,   3.5 ,   3.5 ,   3.5 ,\n",
       "        103.5 ,   0.  ],\n",
       "       [  3.75,   3.75,   3.75,   3.75,   3.75,   3.75,   3.75,   3.75,\n",
       "          3.75, 103.75]])"
      ]
     },
     "execution_count": 9,
     "metadata": {},
     "output_type": "execute_result"
    }
   ],
   "source": [
    "yield_curve = YieldCurve(bonds)\n",
    "yield_curve.cashflows()"
   ]
  },
  {
   "cell_type": "code",
   "execution_count": 10,
   "id": "318c8d01",
   "metadata": {},
   "outputs": [
    {
     "data": {
      "text/plain": [
       "array([0.95172414, 0.90461408, 0.86124827, 0.8227426 , 0.78916271,\n",
       "       0.76042723, 0.73611886, 0.71559687, 0.69849544, 0.68423626])"
      ]
     },
     "execution_count": 10,
     "metadata": {},
     "output_type": "execute_result"
    }
   ],
   "source": [
    "yield_curve.bootstrap_discount_factors_matrix()"
   ]
  },
  {
   "cell_type": "code",
   "execution_count": 11,
   "id": "94ced8d4",
   "metadata": {},
   "outputs": [
    {
     "data": {
      "text/plain": [
       "array([0.95172414, 0.90461408, 0.86124827, 0.8227426 , 0.78916271,\n",
       "       0.76042723, 0.73611886, 0.71559687, 0.69849544, 0.68423626])"
      ]
     },
     "execution_count": 11,
     "metadata": {},
     "output_type": "execute_result"
    }
   ],
   "source": [
    "yield_curve.bootstrap_discount_factors_global_solver()"
   ]
  },
  {
   "cell_type": "code",
   "execution_count": 12,
   "id": "7fca75e6",
   "metadata": {},
   "outputs": [
    {
     "data": {
      "text/plain": [
       "array([0.95172414, 0.90461408, 0.86124827, 0.8227426 , 0.78916271,\n",
       "       0.76042723, 0.73611886, 0.71559687, 0.69849544, 0.68423626])"
      ]
     },
     "execution_count": 12,
     "metadata": {},
     "output_type": "execute_result"
    }
   ],
   "source": [
    "yield_curve.bootstrap_discount_factors_iterative()"
   ]
  },
  {
   "cell_type": "markdown",
   "id": "4e0ae64e",
   "metadata": {},
   "source": [
    "### e) [2.0] Determine the spot rate (annual compounding) for each maturity from the calculated discount factors and plot them\n"
   ]
  },
  {
   "cell_type": "code",
   "execution_count": 13,
   "id": "8697638b",
   "metadata": {},
   "outputs": [
    {
     "data": {
      "image/png": "[encoded data removed]",
      "text/plain": [
       "<Figure size 640x480 with 1 Axes>"
      ]
     },
     "metadata": {},
     "output_type": "display_data"
    }
   ],
   "source": [
    "maturities = [bond.maturity for bond in bonds]\n",
    "discount_factors = yield_curve.bootstrap_discount_factors_matrix()\n",
    "\n",
    "spot_rates = []\n",
    "for discount_factor, maturity in zip(discount_factors, maturities):\n",
    "    spot_rate = (1/discount_factor)**(1/maturity) - 1\n",
    "    spot_rates.append(spot_rate)\n",
    "spot_rates = np.array(spot_rates)\n",
    "\n",
    "plt.plot(spot_rates, \"o-\")\n",
    "plt.title(\"Spot rate for each maturity\")\n",
    "plt.xlabel(\"Maturity\")\n",
    "plt.ylabel(\"Spot rate\")\n",
    "plt.grid(True)"
   ]
  },
  {
   "cell_type": "markdown",
   "id": "a468bdd1",
   "metadata": {},
   "source": [
    "### f) [2.0] Determine the YTM for each bond and plot them\n"
   ]
  },
  {
   "cell_type": "code",
   "execution_count": 16,
   "id": "c6e9c68f",
   "metadata": {},
   "outputs": [
    {
     "name": "stdout",
     "output_type": "stream",
     "text": [
      "Collecting numpy-financial\n",
      "  Downloading numpy_financial-1.0.0-py3-none-any.whl.metadata (2.2 kB)\n",
      "Requirement already satisfied: numpy>=1.15 in c:\\users\\tbellas\\anaconda3\\lib\\site-packages (from numpy-financial) (1.26.4)\n",
      "Downloading numpy_financial-1.0.0-py3-none-any.whl (14 kB)\n",
      "Installing collected packages: numpy-financial\n",
      "Successfully installed numpy-financial-1.0.0\n"
     ]
    }
   ],
   "source": [
    "#!pip install numpy-financial\n"
   ]
  },
  {
   "cell_type": "code",
   "execution_count": 17,
   "id": "dcdf3f3a",
   "metadata": {},
   "outputs": [
    {
     "data": {
      "text/plain": [
       "[0.050724637681159424,\n",
       " 0.051394797457705366,\n",
       " 0.05105360885671528,\n",
       " 0.05002601840832166,\n",
       " 0.04860682295334251,\n",
       " 0.04693075263753643,\n",
       " 0.04512745406521734,\n",
       " 0.043310562386741136,\n",
       " 0.04151381384099939,\n",
       " 0.03979082425353209]"
      ]
     },
     "execution_count": 17,
     "metadata": {},
     "output_type": "execute_result"
    }
   ],
   "source": [
    "import numpy_financial as npf # só está disponível aqui\n",
    "\n",
    "#prices é array/lista de preços e cfs é matrix de cashflows\n",
    "def bond_ytm(prices, cfs):\n",
    "    data = np.column_stack((-np.array(prices), cfs))\n",
    "    return [npf.irr(bond) for bond in data]\n",
    "\n",
    "yields = bond_ytm(np.array(df['Dirty-price']), yield_curve.cashflows())\n",
    "yields"
   ]
  },
  {
   "cell_type": "code",
   "execution_count": 18,
   "id": "0ae3e9ca",
   "metadata": {},
   "outputs": [
    {
     "data": {
      "image/png": "[encoded data removed]",
      "text/plain": [
       "<Figure size 640x480 with 1 Axes>"
      ]
     },
     "metadata": {},
     "output_type": "display_data"
    }
   ],
   "source": [
    "import matplotlib.pyplot as plt\n",
    "\n",
    "plt.plot(yields, 'o-');\n",
    "plt.title(\"Yield rate per bond\");\n",
    "plt.xlabel(\"Bond Index\")\n",
    "plt.ylabel(\"Yield Rate\")\n",
    "plt.ylim(0, max(yields)+0.02);\n",
    "plt.grid(True, axis='y')"
   ]
  },
  {
   "cell_type": "markdown",
   "id": "67d96569",
   "metadata": {},
   "source": [
    "### g) [2.0] Determine the 1y forward rate starting in each of the years from 1 to 9 and plot them\n"
   ]
  },
  {
   "cell_type": "code",
   "execution_count": 19,
   "id": "077c624c",
   "metadata": {},
   "outputs": [
    {
     "data": {
      "image/png": "[encoded data removed]",
      "text/plain": [
       "<Figure size 640x480 with 1 Axes>"
      ]
     },
     "metadata": {},
     "output_type": "display_data"
    }
   ],
   "source": [
    "forward_rates = []\n",
    "\n",
    "for year in range(1,10):\n",
    "    if year == 1:\n",
    "        forward_rate = spot_rates[year]\n",
    "    else:\n",
    "        forward_rate = (1+spot_rates[year])**(year) / (1+spot_rates[year-1])**(year-1) - 1\n",
    "    forward_rates.append(forward_rate)\n",
    "\n",
    "plt.plot(forward_rates, \"o-\")\n",
    "plt.title(\"1-Year Forward rates\")\n",
    "plt.xlabel(\"Year\")\n",
    "plt.ylabel(\"Forward Rate\")\n",
    "plt.grid(True)"
   ]
  },
  {
   "cell_type": "markdown",
   "id": "3201b2f2",
   "metadata": {},
   "source": [
    "### h) [2.0] Make a plot of the spot rates, yields and forward rates with a legend identifying the series"
   ]
  },
  {
   "cell_type": "code",
   "execution_count": 20,
   "id": "318903dc",
   "metadata": {},
   "outputs": [
    {
     "data": {
      "text/plain": [
       "<matplotlib.legend.Legend at 0x1273addce80>"
      ]
     },
     "execution_count": 20,
     "metadata": {},
     "output_type": "execute_result"
    },
    {
     "data": {
      "image/png": "[encoded data removed]",
      "text/plain": [
       "<Figure size 640x480 with 1 Axes>"
      ]
     },
     "metadata": {},
     "output_type": "display_data"
    }
   ],
   "source": [
    "#spot_rates, yields, forward_rates\n",
    "plt.figure()\n",
    "plt.plot(spot_rates, label=\"Spot Rates\")\n",
    "plt.plot(yields, label=\"Yields\")\n",
    "plt.plot(forward_rates, label=\"Forward Rates\")\n",
    "plt.legend()"
   ]
  },
  {
   "cell_type": "markdown",
   "id": "0cecb538",
   "metadata": {},
   "source": [
    "# 2. [5,0] DataFrames: write python code for the following tasks"
   ]
  },
  {
   "cell_type": "markdown",
   "id": "9b84336a",
   "metadata": {},
   "source": [
    "### [1.0] Get historical data (close price and volume) for 5 stocks of your choice using any API of your choice from 2012 to the present time"
   ]
  },
  {
   "cell_type": "code",
   "execution_count": 21,
   "id": "c9fe477a",
   "metadata": {},
   "outputs": [],
   "source": [
    "import yfinance as yf\n",
    "\n",
    "def get_stock_data(tickers):\n",
    "    close_data = {}\n",
    "    volume_data = {}\n",
    "    for ticker in tickers:\n",
    "        ticker_data = yf.download(ticker, start='2012-01-01')\n",
    "        close_data[ticker], volume_data[ticker] = ticker_data['Adj Close'], ticker_data['Volume']\n",
    "    return close_data, volume_data"
   ]
  },
  {
   "cell_type": "code",
   "execution_count": 22,
   "id": "a79cde17",
   "metadata": {},
   "outputs": [
    {
     "name": "stderr",
     "output_type": "stream",
     "text": [
      "[*********************100%%**********************]  1 of 1 completed\n",
      "[*********************100%%**********************]  1 of 1 completed\n",
      "[*********************100%%**********************]  1 of 1 completed\n",
      "[*********************100%%**********************]  1 of 1 completed\n",
      "[*********************100%%**********************]  1 of 1 completed\n"
     ]
    }
   ],
   "source": [
    "import pandas as pd\n",
    "\n",
    "tickers = ['MSFT', 'AMZN', 'NFLX', 'META', 'GOOGL']\n",
    "stock_close_data, stock_volume_data = get_stock_data(tickers)\n",
    "\n",
    "df_close = pd.DataFrame(stock_close_data)\n",
    "df_volume = pd.DataFrame(stock_volume_data)"
   ]
  },
  {
   "cell_type": "code",
   "execution_count": 23,
   "id": "800c6099",
   "metadata": {},
   "outputs": [
    {
     "data": {
      "text/html": [
       "<div>\n",
       "<style scoped>\n",
       "    .dataframe tbody tr th:only-of-type {\n",
       "        vertical-align: middle;\n",
       "    }\n",
       "\n",
       "    .dataframe tbody tr th {\n",
       "        vertical-align: top;\n",
       "    }\n",
       "\n",
       "    .dataframe thead th {\n",
       "        text-align: right;\n",
       "    }\n",
       "</style>\n",
       "<table border=\"1\" class=\"dataframe\">\n",
       "  <thead>\n",
       "    <tr style=\"text-align: right;\">\n",
       "      <th></th>\n",
       "      <th>MSFT</th>\n",
       "      <th>AMZN</th>\n",
       "      <th>NFLX</th>\n",
       "      <th>META</th>\n",
       "      <th>GOOGL</th>\n",
       "    </tr>\n",
       "    <tr>\n",
       "      <th>Date</th>\n",
       "      <th></th>\n",
       "      <th></th>\n",
       "      <th></th>\n",
       "      <th></th>\n",
       "      <th></th>\n",
       "    </tr>\n",
       "  </thead>\n",
       "  <tbody>\n",
       "    <tr>\n",
       "      <th>2024-07-19</th>\n",
       "      <td>437.109985</td>\n",
       "      <td>183.130005</td>\n",
       "      <td>633.340027</td>\n",
       "      <td>476.790009</td>\n",
       "      <td>177.660004</td>\n",
       "    </tr>\n",
       "    <tr>\n",
       "      <th>2024-07-22</th>\n",
       "      <td>442.940002</td>\n",
       "      <td>182.550003</td>\n",
       "      <td>647.500000</td>\n",
       "      <td>487.399994</td>\n",
       "      <td>181.669998</td>\n",
       "    </tr>\n",
       "    <tr>\n",
       "      <th>2024-07-23</th>\n",
       "      <td>444.850006</td>\n",
       "      <td>186.410004</td>\n",
       "      <td>642.760010</td>\n",
       "      <td>488.690002</td>\n",
       "      <td>181.789993</td>\n",
       "    </tr>\n",
       "    <tr>\n",
       "      <th>2024-07-24</th>\n",
       "      <td>428.899994</td>\n",
       "      <td>180.830002</td>\n",
       "      <td>635.989990</td>\n",
       "      <td>461.269989</td>\n",
       "      <td>172.630005</td>\n",
       "    </tr>\n",
       "    <tr>\n",
       "      <th>2024-07-25</th>\n",
       "      <td>NaN</td>\n",
       "      <td>182.477402</td>\n",
       "      <td>642.299988</td>\n",
       "      <td>459.015015</td>\n",
       "      <td>172.399994</td>\n",
       "    </tr>\n",
       "  </tbody>\n",
       "</table>\n",
       "</div>"
      ],
      "text/plain": [
       "                  MSFT        AMZN        NFLX        META       GOOGL\n",
       "Date                                                                  \n",
       "2024-07-19  437.109985  183.130005  633.340027  476.790009  177.660004\n",
       "2024-07-22  442.940002  182.550003  647.500000  487.399994  181.669998\n",
       "2024-07-23  444.850006  186.410004  642.760010  488.690002  181.789993\n",
       "2024-07-24  428.899994  180.830002  635.989990  461.269989  172.630005\n",
       "2024-07-25         NaN  182.477402  642.299988  459.015015  172.399994"
      ]
     },
     "execution_count": 23,
     "metadata": {},
     "output_type": "execute_result"
    }
   ],
   "source": [
    "df_close.tail(5)"
   ]
  },
  {
   "cell_type": "code",
   "execution_count": 24,
   "id": "156d7308",
   "metadata": {},
   "outputs": [
    {
     "data": {
      "text/html": [
       "<div>\n",
       "<style scoped>\n",
       "    .dataframe tbody tr th:only-of-type {\n",
       "        vertical-align: middle;\n",
       "    }\n",
       "\n",
       "    .dataframe tbody tr th {\n",
       "        vertical-align: top;\n",
       "    }\n",
       "\n",
       "    .dataframe thead th {\n",
       "        text-align: right;\n",
       "    }\n",
       "</style>\n",
       "<table border=\"1\" class=\"dataframe\">\n",
       "  <thead>\n",
       "    <tr style=\"text-align: right;\">\n",
       "      <th></th>\n",
       "      <th>MSFT</th>\n",
       "      <th>AMZN</th>\n",
       "      <th>NFLX</th>\n",
       "      <th>META</th>\n",
       "      <th>GOOGL</th>\n",
       "    </tr>\n",
       "    <tr>\n",
       "      <th>Date</th>\n",
       "      <th></th>\n",
       "      <th></th>\n",
       "      <th></th>\n",
       "      <th></th>\n",
       "      <th></th>\n",
       "    </tr>\n",
       "  </thead>\n",
       "  <tbody>\n",
       "    <tr>\n",
       "      <th>2024-07-19</th>\n",
       "      <td>20940400.0</td>\n",
       "      <td>43081800</td>\n",
       "      <td>9815600</td>\n",
       "      <td>15149400.0</td>\n",
       "      <td>18881900</td>\n",
       "    </tr>\n",
       "    <tr>\n",
       "      <th>2024-07-22</th>\n",
       "      <td>15808800.0</td>\n",
       "      <td>39931900</td>\n",
       "      <td>5219100</td>\n",
       "      <td>12023100.0</td>\n",
       "      <td>24100300</td>\n",
       "    </tr>\n",
       "    <tr>\n",
       "      <th>2024-07-23</th>\n",
       "      <td>13107100.0</td>\n",
       "      <td>47537700</td>\n",
       "      <td>2463600</td>\n",
       "      <td>9455500.0</td>\n",
       "      <td>36352700</td>\n",
       "    </tr>\n",
       "    <tr>\n",
       "      <th>2024-07-24</th>\n",
       "      <td>26761700.0</td>\n",
       "      <td>41455000</td>\n",
       "      <td>4884400</td>\n",
       "      <td>17624900.0</td>\n",
       "      <td>49520400</td>\n",
       "    </tr>\n",
       "    <tr>\n",
       "      <th>2024-07-25</th>\n",
       "      <td>NaN</td>\n",
       "      <td>23711128</td>\n",
       "      <td>2027726</td>\n",
       "      <td>10622490.0</td>\n",
       "      <td>16359668</td>\n",
       "    </tr>\n",
       "  </tbody>\n",
       "</table>\n",
       "</div>"
      ],
      "text/plain": [
       "                  MSFT      AMZN     NFLX        META     GOOGL\n",
       "Date                                                           \n",
       "2024-07-19  20940400.0  43081800  9815600  15149400.0  18881900\n",
       "2024-07-22  15808800.0  39931900  5219100  12023100.0  24100300\n",
       "2024-07-23  13107100.0  47537700  2463600   9455500.0  36352700\n",
       "2024-07-24  26761700.0  41455000  4884400  17624900.0  49520400\n",
       "2024-07-25         NaN  23711128  2027726  10622490.0  16359668"
      ]
     },
     "execution_count": 24,
     "metadata": {},
     "output_type": "execute_result"
    }
   ],
   "source": [
    "df_volume.tail(5)"
   ]
  },
  {
   "cell_type": "markdown",
   "id": "e11b771f",
   "metadata": {},
   "source": [
    "### [1.0] Plot the cumulative returns of the stocks on a single chart"
   ]
  },
  {
   "cell_type": "code",
   "execution_count": 25,
   "id": "38358d37",
   "metadata": {},
   "outputs": [
    {
     "name": "stderr",
     "output_type": "stream",
     "text": [
      "C:\\Users\\tbellas\\AppData\\Local\\Temp\\ipykernel_29008\\1519035545.py:1: FutureWarning: The default fill_method='pad' in DataFrame.pct_change is deprecated and will be removed in a future version. Either fill in any non-leading NA values prior to calling pct_change or specify 'fill_method=None' to not fill NA values.\n",
      "  df_returns = df_close.pct_change()\n"
     ]
    },
    {
     "data": {
      "image/png": "[encoded data removed]",
      "text/plain": [
       "<Figure size 1200x600 with 1 Axes>"
      ]
     },
     "metadata": {},
     "output_type": "display_data"
    }
   ],
   "source": [
    "df_returns = df_close.pct_change()\n",
    "df_cumulative_returns = (1 + df_returns).cumprod() - 1\n",
    "df_cumulative_returns.plot(xlabel='Date', ylabel='Cumulative Returns (%)', grid=True, figsize=(12,6));"
   ]
  },
  {
   "cell_type": "markdown",
   "id": "24993b0c",
   "metadata": {},
   "source": [
    "### [1.0] Create the correlation matrix of the daily returns"
   ]
  },
  {
   "cell_type": "code",
   "execution_count": 26,
   "id": "7fa9c144",
   "metadata": {},
   "outputs": [
    {
     "data": {
      "text/html": [
       "<div>\n",
       "<style scoped>\n",
       "    .dataframe tbody tr th:only-of-type {\n",
       "        vertical-align: middle;\n",
       "    }\n",
       "\n",
       "    .dataframe tbody tr th {\n",
       "        vertical-align: top;\n",
       "    }\n",
       "\n",
       "    .dataframe thead th {\n",
       "        text-align: right;\n",
       "    }\n",
       "</style>\n",
       "<table border=\"1\" class=\"dataframe\">\n",
       "  <thead>\n",
       "    <tr style=\"text-align: right;\">\n",
       "      <th></th>\n",
       "      <th>MSFT</th>\n",
       "      <th>AMZN</th>\n",
       "      <th>NFLX</th>\n",
       "      <th>META</th>\n",
       "      <th>GOOGL</th>\n",
       "    </tr>\n",
       "  </thead>\n",
       "  <tbody>\n",
       "    <tr>\n",
       "      <th>MSFT</th>\n",
       "      <td>1.000000</td>\n",
       "      <td>0.575527</td>\n",
       "      <td>0.372343</td>\n",
       "      <td>0.470349</td>\n",
       "      <td>0.649976</td>\n",
       "    </tr>\n",
       "    <tr>\n",
       "      <th>AMZN</th>\n",
       "      <td>0.575527</td>\n",
       "      <td>1.000000</td>\n",
       "      <td>0.437980</td>\n",
       "      <td>0.504366</td>\n",
       "      <td>0.602914</td>\n",
       "    </tr>\n",
       "    <tr>\n",
       "      <th>NFLX</th>\n",
       "      <td>0.372343</td>\n",
       "      <td>0.437980</td>\n",
       "      <td>1.000000</td>\n",
       "      <td>0.347692</td>\n",
       "      <td>0.383816</td>\n",
       "    </tr>\n",
       "    <tr>\n",
       "      <th>META</th>\n",
       "      <td>0.470349</td>\n",
       "      <td>0.504366</td>\n",
       "      <td>0.347692</td>\n",
       "      <td>1.000000</td>\n",
       "      <td>0.538263</td>\n",
       "    </tr>\n",
       "    <tr>\n",
       "      <th>GOOGL</th>\n",
       "      <td>0.649976</td>\n",
       "      <td>0.602914</td>\n",
       "      <td>0.383816</td>\n",
       "      <td>0.538263</td>\n",
       "      <td>1.000000</td>\n",
       "    </tr>\n",
       "  </tbody>\n",
       "</table>\n",
       "</div>"
      ],
      "text/plain": [
       "           MSFT      AMZN      NFLX      META     GOOGL\n",
       "MSFT   1.000000  0.575527  0.372343  0.470349  0.649976\n",
       "AMZN   0.575527  1.000000  0.437980  0.504366  0.602914\n",
       "NFLX   0.372343  0.437980  1.000000  0.347692  0.383816\n",
       "META   0.470349  0.504366  0.347692  1.000000  0.538263\n",
       "GOOGL  0.649976  0.602914  0.383816  0.538263  1.000000"
      ]
     },
     "execution_count": 26,
     "metadata": {},
     "output_type": "execute_result"
    }
   ],
   "source": [
    "daily_returns_corr_matrix = df_returns.corr()\n",
    "daily_returns_corr_matrix"
   ]
  },
  {
   "cell_type": "markdown",
   "id": "74c88136",
   "metadata": {},
   "source": [
    "### [1.0] Save the data (close price and volume) to a CSV file for each ticker"
   ]
  },
  {
   "cell_type": "code",
   "execution_count": 27,
   "id": "895f127b",
   "metadata": {},
   "outputs": [
    {
     "data": {
      "text/html": [
       "<div>\n",
       "<style scoped>\n",
       "    .dataframe tbody tr th:only-of-type {\n",
       "        vertical-align: middle;\n",
       "    }\n",
       "\n",
       "    .dataframe tbody tr th {\n",
       "        vertical-align: top;\n",
       "    }\n",
       "\n",
       "    .dataframe thead th {\n",
       "        text-align: right;\n",
       "    }\n",
       "</style>\n",
       "<table border=\"1\" class=\"dataframe\">\n",
       "  <thead>\n",
       "    <tr style=\"text-align: right;\">\n",
       "      <th></th>\n",
       "      <th>Close</th>\n",
       "      <th>Volume</th>\n",
       "    </tr>\n",
       "    <tr>\n",
       "      <th>Date</th>\n",
       "      <th></th>\n",
       "      <th></th>\n",
       "    </tr>\n",
       "  </thead>\n",
       "  <tbody>\n",
       "    <tr>\n",
       "      <th>2012-01-03</th>\n",
       "      <td>21.200512</td>\n",
       "      <td>64731500.0</td>\n",
       "    </tr>\n",
       "    <tr>\n",
       "      <th>2012-01-04</th>\n",
       "      <td>21.699442</td>\n",
       "      <td>80516100.0</td>\n",
       "    </tr>\n",
       "    <tr>\n",
       "      <th>2012-01-05</th>\n",
       "      <td>21.921188</td>\n",
       "      <td>56081400.0</td>\n",
       "    </tr>\n",
       "    <tr>\n",
       "      <th>2012-01-06</th>\n",
       "      <td>22.261730</td>\n",
       "      <td>99455500.0</td>\n",
       "    </tr>\n",
       "    <tr>\n",
       "      <th>2012-01-09</th>\n",
       "      <td>21.968704</td>\n",
       "      <td>59706800.0</td>\n",
       "    </tr>\n",
       "    <tr>\n",
       "      <th>...</th>\n",
       "      <td>...</td>\n",
       "      <td>...</td>\n",
       "    </tr>\n",
       "    <tr>\n",
       "      <th>2024-07-19</th>\n",
       "      <td>437.109985</td>\n",
       "      <td>20940400.0</td>\n",
       "    </tr>\n",
       "    <tr>\n",
       "      <th>2024-07-22</th>\n",
       "      <td>442.940002</td>\n",
       "      <td>15808800.0</td>\n",
       "    </tr>\n",
       "    <tr>\n",
       "      <th>2024-07-23</th>\n",
       "      <td>444.850006</td>\n",
       "      <td>13107100.0</td>\n",
       "    </tr>\n",
       "    <tr>\n",
       "      <th>2024-07-24</th>\n",
       "      <td>428.899994</td>\n",
       "      <td>26761700.0</td>\n",
       "    </tr>\n",
       "    <tr>\n",
       "      <th>2024-07-25</th>\n",
       "      <td>NaN</td>\n",
       "      <td>NaN</td>\n",
       "    </tr>\n",
       "  </tbody>\n",
       "</table>\n",
       "<p>3160 rows × 2 columns</p>\n",
       "</div>"
      ],
      "text/plain": [
       "                 Close      Volume\n",
       "Date                              \n",
       "2012-01-03   21.200512  64731500.0\n",
       "2012-01-04   21.699442  80516100.0\n",
       "2012-01-05   21.921188  56081400.0\n",
       "2012-01-06   22.261730  99455500.0\n",
       "2012-01-09   21.968704  59706800.0\n",
       "...                ...         ...\n",
       "2024-07-19  437.109985  20940400.0\n",
       "2024-07-22  442.940002  15808800.0\n",
       "2024-07-23  444.850006  13107100.0\n",
       "2024-07-24  428.899994  26761700.0\n",
       "2024-07-25         NaN         NaN\n",
       "\n",
       "[3160 rows x 2 columns]"
      ]
     },
     "execution_count": 27,
     "metadata": {},
     "output_type": "execute_result"
    }
   ],
   "source": [
    "joined_df = pd.DataFrame({ 'Close': df_close['MSFT'], 'Volume': df_volume['MSFT'] }, index=df_close.index)\n",
    "joined_df"
   ]
  },
  {
   "cell_type": "code",
   "execution_count": 28,
   "id": "2b06cb48",
   "metadata": {},
   "outputs": [],
   "source": [
    "for ticker in tickers:\n",
    "    joined_df = pd.DataFrame({ f'Close_{ticker}': df_close[ticker], f'Volume_{ticker}': df_volume[ticker] }, index=df_close.index)\n",
    "    joined_df.to_csv(f\"{ticker}.csv\")"
   ]
  },
  {
   "cell_type": "markdown",
   "id": "7cf1dde2",
   "metadata": {},
   "source": [
    "### [1.0] Load the data from the CSV files you saved into a single DataFrame with the prices for each ticker"
   ]
  },
  {
   "cell_type": "code",
   "execution_count": 29,
   "id": "aa5c4db3",
   "metadata": {},
   "outputs": [
    {
     "data": {
      "text/plain": [
       "[            Date  Close_MSFT  Volume_MSFT\n",
       " 0     2012-01-03   21.200512   64731500.0\n",
       " 1     2012-01-04   21.699442   80516100.0\n",
       " 2     2012-01-05   21.921188   56081400.0\n",
       " 3     2012-01-06   22.261730   99455500.0\n",
       " 4     2012-01-09   21.968704   59706800.0\n",
       " ...          ...         ...          ...\n",
       " 3155  2024-07-19  437.109985   20940400.0\n",
       " 3156  2024-07-22  442.940002   15808800.0\n",
       " 3157  2024-07-23  444.850006   13107100.0\n",
       " 3158  2024-07-24  428.899994   26761700.0\n",
       " 3159  2024-07-25         NaN          NaN\n",
       " \n",
       " [3160 rows x 3 columns],\n",
       "             Date  Close_AMZN  Volume_AMZN\n",
       " 0     2012-01-03    8.951500    102216000\n",
       " 1     2012-01-04    8.875500     84104000\n",
       " 2     2012-01-05    8.880500     76182000\n",
       " 3     2012-01-06    9.130500    140168000\n",
       " 4     2012-01-09    8.928000    101138000\n",
       " ...          ...         ...          ...\n",
       " 3155  2024-07-19  183.130005     43081800\n",
       " 3156  2024-07-22  182.550003     39931900\n",
       " 3157  2024-07-23  186.410004     47537700\n",
       " 3158  2024-07-24  180.830002     41455000\n",
       " 3159  2024-07-25  182.477402     23711128\n",
       " \n",
       " [3160 rows x 3 columns],\n",
       "             Date  Close_NFLX  Volume_NFLX\n",
       " 0     2012-01-03   10.320000     29213800\n",
       " 1     2012-01-04   11.492857    100489900\n",
       " 2     2012-01-05   11.328571     86552900\n",
       " 3     2012-01-06   12.327143    125610800\n",
       " 4     2012-01-09   14.025714    214073300\n",
       " ...          ...         ...          ...\n",
       " 3155  2024-07-19  633.340027      9815600\n",
       " 3156  2024-07-22  647.500000      5219100\n",
       " 3157  2024-07-23  642.760010      2463600\n",
       " 3158  2024-07-24  635.989990      4884400\n",
       " 3159  2024-07-25  642.299988      2027726\n",
       " \n",
       " [3160 rows x 3 columns],\n",
       "             Date  Close_META  Volume_META\n",
       " 0     2012-01-03         NaN          NaN\n",
       " 1     2012-01-04         NaN          NaN\n",
       " 2     2012-01-05         NaN          NaN\n",
       " 3     2012-01-06         NaN          NaN\n",
       " 4     2012-01-09         NaN          NaN\n",
       " ...          ...         ...          ...\n",
       " 3155  2024-07-19  476.790009   15149400.0\n",
       " 3156  2024-07-22  487.399994   12023100.0\n",
       " 3157  2024-07-23  488.690002    9455500.0\n",
       " 3158  2024-07-24  461.269989   17624900.0\n",
       " 3159  2024-07-25  459.015015   10622490.0\n",
       " \n",
       " [3160 rows x 3 columns],\n",
       "             Date  Close_GOOGL  Volume_GOOGL\n",
       " 0     2012-01-03    16.632812     146912940\n",
       " 1     2012-01-04    16.704554     114445440\n",
       " 2     2012-01-05    16.472836     131184684\n",
       " 3     2012-01-06    16.248119     107608284\n",
       " 4     2012-01-09    15.559219     232671096\n",
       " ...          ...          ...           ...\n",
       " 3155  2024-07-19   177.660004      18881900\n",
       " 3156  2024-07-22   181.669998      24100300\n",
       " 3157  2024-07-23   181.789993      36352700\n",
       " 3158  2024-07-24   172.630005      49520400\n",
       " 3159  2024-07-25   172.399994      16359668\n",
       " \n",
       " [3160 rows x 3 columns]]"
      ]
     },
     "execution_count": 29,
     "metadata": {},
     "output_type": "execute_result"
    }
   ],
   "source": [
    "csv_dfs = [pd.read_csv(f'{ticker}.csv') for ticker in tickers]\n",
    "csv_dfs"
   ]
  },
  {
   "cell_type": "code",
   "execution_count": 30,
   "id": "0cf1d2ae",
   "metadata": {},
   "outputs": [
    {
     "data": {
      "text/html": [
       "<div>\n",
       "<style scoped>\n",
       "    .dataframe tbody tr th:only-of-type {\n",
       "        vertical-align: middle;\n",
       "    }\n",
       "\n",
       "    .dataframe tbody tr th {\n",
       "        vertical-align: top;\n",
       "    }\n",
       "\n",
       "    .dataframe thead th {\n",
       "        text-align: right;\n",
       "    }\n",
       "</style>\n",
       "<table border=\"1\" class=\"dataframe\">\n",
       "  <thead>\n",
       "    <tr style=\"text-align: right;\">\n",
       "      <th></th>\n",
       "      <th>Close_MSFT</th>\n",
       "      <th>Close_AMZN</th>\n",
       "      <th>Close_NFLX</th>\n",
       "      <th>Close_META</th>\n",
       "      <th>Close_GOOGL</th>\n",
       "    </tr>\n",
       "    <tr>\n",
       "      <th>Date</th>\n",
       "      <th></th>\n",
       "      <th></th>\n",
       "      <th></th>\n",
       "      <th></th>\n",
       "      <th></th>\n",
       "    </tr>\n",
       "  </thead>\n",
       "  <tbody>\n",
       "    <tr>\n",
       "      <th>2012-01-03</th>\n",
       "      <td>21.200512</td>\n",
       "      <td>8.951500</td>\n",
       "      <td>10.320000</td>\n",
       "      <td>NaN</td>\n",
       "      <td>16.632812</td>\n",
       "    </tr>\n",
       "    <tr>\n",
       "      <th>2012-01-04</th>\n",
       "      <td>21.699442</td>\n",
       "      <td>8.875500</td>\n",
       "      <td>11.492857</td>\n",
       "      <td>NaN</td>\n",
       "      <td>16.704554</td>\n",
       "    </tr>\n",
       "    <tr>\n",
       "      <th>2012-01-05</th>\n",
       "      <td>21.921188</td>\n",
       "      <td>8.880500</td>\n",
       "      <td>11.328571</td>\n",
       "      <td>NaN</td>\n",
       "      <td>16.472836</td>\n",
       "    </tr>\n",
       "    <tr>\n",
       "      <th>2012-01-06</th>\n",
       "      <td>22.261730</td>\n",
       "      <td>9.130500</td>\n",
       "      <td>12.327143</td>\n",
       "      <td>NaN</td>\n",
       "      <td>16.248119</td>\n",
       "    </tr>\n",
       "    <tr>\n",
       "      <th>2012-01-09</th>\n",
       "      <td>21.968704</td>\n",
       "      <td>8.928000</td>\n",
       "      <td>14.025714</td>\n",
       "      <td>NaN</td>\n",
       "      <td>15.559219</td>\n",
       "    </tr>\n",
       "    <tr>\n",
       "      <th>...</th>\n",
       "      <td>...</td>\n",
       "      <td>...</td>\n",
       "      <td>...</td>\n",
       "      <td>...</td>\n",
       "      <td>...</td>\n",
       "    </tr>\n",
       "    <tr>\n",
       "      <th>2024-07-19</th>\n",
       "      <td>437.109985</td>\n",
       "      <td>183.130005</td>\n",
       "      <td>633.340027</td>\n",
       "      <td>476.790009</td>\n",
       "      <td>177.660004</td>\n",
       "    </tr>\n",
       "    <tr>\n",
       "      <th>2024-07-22</th>\n",
       "      <td>442.940002</td>\n",
       "      <td>182.550003</td>\n",
       "      <td>647.500000</td>\n",
       "      <td>487.399994</td>\n",
       "      <td>181.669998</td>\n",
       "    </tr>\n",
       "    <tr>\n",
       "      <th>2024-07-23</th>\n",
       "      <td>444.850006</td>\n",
       "      <td>186.410004</td>\n",
       "      <td>642.760010</td>\n",
       "      <td>488.690002</td>\n",
       "      <td>181.789993</td>\n",
       "    </tr>\n",
       "    <tr>\n",
       "      <th>2024-07-24</th>\n",
       "      <td>428.899994</td>\n",
       "      <td>180.830002</td>\n",
       "      <td>635.989990</td>\n",
       "      <td>461.269989</td>\n",
       "      <td>172.630005</td>\n",
       "    </tr>\n",
       "    <tr>\n",
       "      <th>2024-07-25</th>\n",
       "      <td>NaN</td>\n",
       "      <td>182.477402</td>\n",
       "      <td>642.299988</td>\n",
       "      <td>459.015015</td>\n",
       "      <td>172.399994</td>\n",
       "    </tr>\n",
       "  </tbody>\n",
       "</table>\n",
       "<p>3160 rows × 5 columns</p>\n",
       "</div>"
      ],
      "text/plain": [
       "            Close_MSFT  Close_AMZN  Close_NFLX  Close_META  Close_GOOGL\n",
       "Date                                                                   \n",
       "2012-01-03   21.200512    8.951500   10.320000         NaN    16.632812\n",
       "2012-01-04   21.699442    8.875500   11.492857         NaN    16.704554\n",
       "2012-01-05   21.921188    8.880500   11.328571         NaN    16.472836\n",
       "2012-01-06   22.261730    9.130500   12.327143         NaN    16.248119\n",
       "2012-01-09   21.968704    8.928000   14.025714         NaN    15.559219\n",
       "...                ...         ...         ...         ...          ...\n",
       "2024-07-19  437.109985  183.130005  633.340027  476.790009   177.660004\n",
       "2024-07-22  442.940002  182.550003  647.500000  487.399994   181.669998\n",
       "2024-07-23  444.850006  186.410004  642.760010  488.690002   181.789993\n",
       "2024-07-24  428.899994  180.830002  635.989990  461.269989   172.630005\n",
       "2024-07-25         NaN  182.477402  642.299988  459.015015   172.399994\n",
       "\n",
       "[3160 rows x 5 columns]"
      ]
     },
     "execution_count": 30,
     "metadata": {},
     "output_type": "execute_result"
    }
   ],
   "source": [
    "loaded_csv_df = pd.DataFrame()\n",
    "\n",
    "for csv_df in csv_dfs:\n",
    "    loaded_csv_df = pd.concat([loaded_csv_df, csv_df], axis=1)\n",
    "\n",
    "#Remover colunas de volume\n",
    "loaded_csv_df = loaded_csv_df.drop(columns=[f'Volume_{ticker}' for ticker in tickers])\n",
    "\n",
    "#Solução elegante para remover colunas date duplicadas: https://stackoverflow.com/a/40435354/10280626\n",
    "loaded_csv_df = loaded_csv_df.iloc[:, ~loaded_csv_df.columns.duplicated(keep='first')]\n",
    "\n",
    "#Definir coluna de Date como index\n",
    "loaded_csv_df = loaded_csv_df.set_index('Date')\n",
    "\n",
    "loaded_csv_df"
   ]
  },
  {
   "cell_type": "code",
   "execution_count": 31,
   "id": "4b76a1f6",
   "metadata": {},
   "outputs": [
    {
     "data": {
      "text/plain": [
       "'MSFT'"
      ]
     },
     "execution_count": 31,
     "metadata": {},
     "output_type": "execute_result"
    }
   ],
   "source": [
    "'Close_MSFT'['Close_MSFT'.find('_')+1:]"
   ]
  },
  {
   "cell_type": "code",
   "execution_count": 32,
   "id": "598da171",
   "metadata": {},
   "outputs": [
    {
     "data": {
      "text/html": [
       "<div>\n",
       "<style scoped>\n",
       "    .dataframe tbody tr th:only-of-type {\n",
       "        vertical-align: middle;\n",
       "    }\n",
       "\n",
       "    .dataframe tbody tr th {\n",
       "        vertical-align: top;\n",
       "    }\n",
       "\n",
       "    .dataframe thead th {\n",
       "        text-align: right;\n",
       "    }\n",
       "</style>\n",
       "<table border=\"1\" class=\"dataframe\">\n",
       "  <thead>\n",
       "    <tr style=\"text-align: right;\">\n",
       "      <th></th>\n",
       "      <th>MSFT</th>\n",
       "      <th>AMZN</th>\n",
       "      <th>NFLX</th>\n",
       "      <th>META</th>\n",
       "      <th>GOOGL</th>\n",
       "    </tr>\n",
       "    <tr>\n",
       "      <th>Date</th>\n",
       "      <th></th>\n",
       "      <th></th>\n",
       "      <th></th>\n",
       "      <th></th>\n",
       "      <th></th>\n",
       "    </tr>\n",
       "  </thead>\n",
       "  <tbody>\n",
       "    <tr>\n",
       "      <th>2012-01-03</th>\n",
       "      <td>21.200512</td>\n",
       "      <td>8.951500</td>\n",
       "      <td>10.320000</td>\n",
       "      <td>NaN</td>\n",
       "      <td>16.632812</td>\n",
       "    </tr>\n",
       "    <tr>\n",
       "      <th>2012-01-04</th>\n",
       "      <td>21.699442</td>\n",
       "      <td>8.875500</td>\n",
       "      <td>11.492857</td>\n",
       "      <td>NaN</td>\n",
       "      <td>16.704554</td>\n",
       "    </tr>\n",
       "    <tr>\n",
       "      <th>2012-01-05</th>\n",
       "      <td>21.921188</td>\n",
       "      <td>8.880500</td>\n",
       "      <td>11.328571</td>\n",
       "      <td>NaN</td>\n",
       "      <td>16.472836</td>\n",
       "    </tr>\n",
       "    <tr>\n",
       "      <th>2012-01-06</th>\n",
       "      <td>22.261730</td>\n",
       "      <td>9.130500</td>\n",
       "      <td>12.327143</td>\n",
       "      <td>NaN</td>\n",
       "      <td>16.248119</td>\n",
       "    </tr>\n",
       "    <tr>\n",
       "      <th>2012-01-09</th>\n",
       "      <td>21.968704</td>\n",
       "      <td>8.928000</td>\n",
       "      <td>14.025714</td>\n",
       "      <td>NaN</td>\n",
       "      <td>15.559219</td>\n",
       "    </tr>\n",
       "    <tr>\n",
       "      <th>...</th>\n",
       "      <td>...</td>\n",
       "      <td>...</td>\n",
       "      <td>...</td>\n",
       "      <td>...</td>\n",
       "      <td>...</td>\n",
       "    </tr>\n",
       "    <tr>\n",
       "      <th>2024-07-19</th>\n",
       "      <td>437.109985</td>\n",
       "      <td>183.130005</td>\n",
       "      <td>633.340027</td>\n",
       "      <td>476.790009</td>\n",
       "      <td>177.660004</td>\n",
       "    </tr>\n",
       "    <tr>\n",
       "      <th>2024-07-22</th>\n",
       "      <td>442.940002</td>\n",
       "      <td>182.550003</td>\n",
       "      <td>647.500000</td>\n",
       "      <td>487.399994</td>\n",
       "      <td>181.669998</td>\n",
       "    </tr>\n",
       "    <tr>\n",
       "      <th>2024-07-23</th>\n",
       "      <td>444.850006</td>\n",
       "      <td>186.410004</td>\n",
       "      <td>642.760010</td>\n",
       "      <td>488.690002</td>\n",
       "      <td>181.789993</td>\n",
       "    </tr>\n",
       "    <tr>\n",
       "      <th>2024-07-24</th>\n",
       "      <td>428.899994</td>\n",
       "      <td>180.830002</td>\n",
       "      <td>635.989990</td>\n",
       "      <td>461.269989</td>\n",
       "      <td>172.630005</td>\n",
       "    </tr>\n",
       "    <tr>\n",
       "      <th>2024-07-25</th>\n",
       "      <td>NaN</td>\n",
       "      <td>182.477402</td>\n",
       "      <td>642.299988</td>\n",
       "      <td>459.015015</td>\n",
       "      <td>172.399994</td>\n",
       "    </tr>\n",
       "  </tbody>\n",
       "</table>\n",
       "<p>3160 rows × 5 columns</p>\n",
       "</div>"
      ],
      "text/plain": [
       "                  MSFT        AMZN        NFLX        META       GOOGL\n",
       "Date                                                                  \n",
       "2012-01-03   21.200512    8.951500   10.320000         NaN   16.632812\n",
       "2012-01-04   21.699442    8.875500   11.492857         NaN   16.704554\n",
       "2012-01-05   21.921188    8.880500   11.328571         NaN   16.472836\n",
       "2012-01-06   22.261730    9.130500   12.327143         NaN   16.248119\n",
       "2012-01-09   21.968704    8.928000   14.025714         NaN   15.559219\n",
       "...                ...         ...         ...         ...         ...\n",
       "2024-07-19  437.109985  183.130005  633.340027  476.790009  177.660004\n",
       "2024-07-22  442.940002  182.550003  647.500000  487.399994  181.669998\n",
       "2024-07-23  444.850006  186.410004  642.760010  488.690002  181.789993\n",
       "2024-07-24  428.899994  180.830002  635.989990  461.269989  172.630005\n",
       "2024-07-25         NaN  182.477402  642.299988  459.015015  172.399994\n",
       "\n",
       "[3160 rows x 5 columns]"
      ]
     },
     "execution_count": 32,
     "metadata": {},
     "output_type": "execute_result"
    }
   ],
   "source": [
    "loaded_csv_df = loaded_csv_df.rename(lambda column_name: column_name[column_name.find('_')+1 : ], axis='columns')\n",
    "loaded_csv_df"
   ]
  }
 ],
 "metadata": {
  "kernelspec": {
   "display_name": "Python 3 (ipykernel)",
   "language": "python",
   "name": "python3"
  },
  "language_info": {
   "codemirror_mode": {
    "name": "ipython",
    "version": 3
   },
   "file_extension": ".py",
   "mimetype": "text/x-python",
   "name": "python",
   "nbconvert_exporter": "python",
   "pygments_lexer": "ipython3",
   "version": "3.9.19"
  }
 },
 "nbformat": 4,
 "nbformat_minor": 5
}
